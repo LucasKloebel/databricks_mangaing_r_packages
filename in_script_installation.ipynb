{
 "cells": [
  {
   "cell_type": "markdown",
   "metadata": {},
   "source": [
    "#### In-Script-Instalation of R packages\n",
    "\n",
    "Code was executed on Databricks runtime with ML 15.3\n",
    "\n",
    "Additional requirements:\n",
    "None\n"
   ]
  },
  {
   "cell_type": "code",
   "execution_count": null,
   "metadata": {},
   "outputs": [],
   "source": [
    "# preinstalled package version\n",
    "packageVersion(\"data.table\")"
   ]
  }
 ],
 "metadata": {
  "language_info": {
   "name": "python"
  }
 },
 "nbformat": 4,
 "nbformat_minor": 2
}
