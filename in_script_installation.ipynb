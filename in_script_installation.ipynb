{
 "cells": [
  {
   "cell_type": "markdown",
   "metadata": {},
   "source": [
    "#### In-Script-Instalation of R packages\n",
    "\n",
    "Code was executed on Databricks runtime with ML 15.3\n",
    "\n",
    "Additional requirements:\n",
    "None\n"
   ]
  },
  {
   "cell_type": "code",
   "execution_count": null,
   "metadata": {},
   "outputs": [],
   "source": [
    "%r\n",
    "# preinstalled package version\n",
    "packageVersion(\"data.table\")"
   ]
  },
  {
   "cell_type": "code",
   "execution_count": null,
   "metadata": {},
   "outputs": [],
   "source": [
    "%r\n",
    "# install specific version of a package\n",
    "devtools::install_version(\"data.table\", version = \"1.15.2\")"
   ]
  },
  {
   "cell_type": "code",
   "execution_count": null,
   "metadata": {},
   "outputs": [],
   "source": [
    "%r\n",
    "packageVersion(\"data.table\")"
   ]
  },
  {
   "cell_type": "markdown",
   "metadata": {},
   "source": [
    "The package is now notebook-scoped and available. Once the cluster is terminated, restarted, or detached from the notebook, it is no longer available."
   ]
  }
 ],
 "metadata": {
  "language_info": {
   "name": "python"
  }
 },
 "nbformat": 4,
 "nbformat_minor": 2
}
