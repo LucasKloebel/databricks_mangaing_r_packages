{
 "cells": [
  {
   "cell_type": "markdown",
   "metadata": {},
   "source": [
    "#### Persist installed packages on managed volume\n",
    "\n",
    "Code was executed on Databricks runtime with ML 15.3\n",
    "\n",
    "Additional requirements:\n",
    "- Unity catalog (Databricks Premium or above)\n",
    "- managed volume"
   ]
  },
  {
   "cell_type": "code",
   "execution_count": null,
   "metadata": {},
   "outputs": [],
   "source": [
    "%r\n",
    ".libPaths()"
   ]
  },
  {
   "cell_type": "code",
   "execution_count": null,
   "metadata": {},
   "outputs": [],
   "source": [
    "%r\n",
    "packageVersion(\"data.table\")"
   ]
  },
  {
   "cell_type": "code",
   "execution_count": null,
   "metadata": {},
   "outputs": [],
   "source": [
    "%r\n",
    "# Append to the search path\n",
    ".libPaths(c(\"/usr/lib/R/lib_current_usecase\", .libPaths()))\n",
    "# Check if new libPath is correctly appended\n",
    ".libPaths()"
   ]
  },
  {
   "cell_type": "code",
   "execution_count": null,
   "metadata": {},
   "outputs": [],
   "source": [
    "%r\n",
    "# Now when installing a package via devtools, the packages is installed into this path\n",
    "devtools::install_version(\"data.table\", version = \"1.15.2\", lib = \"/usr/lib/R/lib_current_usecase\")\n",
    "## Copy to Volume\n",
    "system(\"cp -R /usr/lib/R/lib_current_usecase /Volumes/volume01/example_usecases/library_usecase1\", intern = T)"
   ]
  },
  {
   "cell_type": "code",
   "execution_count": null,
   "metadata": {},
   "outputs": [],
   "source": [
    "%python\n",
    "## Define contents of script \n",
    "script = \"\"\"\n",
    "#!/bin/bash\n",
    "R --vanilla <<EOF\n",
    "\n",
    "new_lib_path <- \"/Volumes/volume01/example_usecases/library\"\n",
    ".libPaths(c(new_lib_path, .libPaths()))\n",
    "\n",
    "q()\n",
    "EOF\n",
    "\"\"\"\n",
    "\n",
    "## Save the script to Volume\n",
    "dbutils.fs.put(\"/Volumes/volume01/example_usecases/init_scripts/init_script2.sh\", script, True)"
   ]
  },
  {
   "cell_type": "markdown",
   "metadata": {},
   "source": [
    "Now go to the left pane and click on \"Compute\", then click on your cluster, and select \"Edit\". Under \"Advanced options\", go to \"Init Scripts\". Choose \"Volumes\" under \"Source\" and navigate to the folder where init_script2.sh was written.\n",
    "\n",
    "Now, every time you restart the cluster, the managed volume path is appended to your libPaths, and the installed packages and their dependencies are available without needing to download or install them again."
   ]
  }
 ],
 "metadata": {
  "language_info": {
   "name": "python"
  }
 },
 "nbformat": 4,
 "nbformat_minor": 2
}
