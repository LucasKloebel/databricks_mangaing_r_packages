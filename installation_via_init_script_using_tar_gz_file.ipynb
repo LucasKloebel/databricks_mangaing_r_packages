{
 "cells": [
  {
   "cell_type": "markdown",
   "metadata": {},
   "source": [
    "#### Installation of R packages via init-script using tar.gz-file\n",
    "\n",
    "Code was executed on Databricks runtime with ML 15.3\n",
    "\n",
    "Additional requirements:\n",
    "- Unity catalog (Databricks Premium or above)\n",
    "- managed volume"
   ]
  },
  {
   "cell_type": "markdown",
   "metadata": {},
   "source": [
    "To install a specific version of a package cluster-scoped using an init script, download the specific version of the package from CRAN ot the CRAN Archive, upload it to the volume, and then install it using an init script. \n",
    "\n",
    "CRAN: https://cran.r-project.org/web/packages/available_packages_by_date.html\n",
    "CRAN Archive: https://cran.r-project.org/src/contrib/Archive"
   ]
  },
  {
   "cell_type": "code",
   "execution_count": null,
   "metadata": {},
   "outputs": [],
   "source": [
    "%python\n",
    "## Define contents of script \n",
    "script = \"\"\"\n",
    "#!/bin/bash\n",
    "R --vanilla <<EOF\n",
    "\n",
    "install.packages(\"/Volumes/volume01/example_usecases/packages/data.table_1.15.2.tar.gz\", type = \"source\", repos = NULL, dependencies = TRUE)\n",
    "\n",
    "q()\n",
    "EOF\n",
    "\"\"\"\n",
    "\n",
    "## Save the script to Volume\n",
    "dbutils.fs.put(\"/Volumes/volume01/example_usecases/init_scripts/init_script1.sh\", script, True)"
   ]
  },
  {
   "cell_type": "markdown",
   "metadata": {},
   "source": [
    "Now go to the left pane and click on \"Compute\", then click on your cluster, and select \"Edit\". Under \"Advanced options\", go to \"Init Scripts\". Choose \"Volumes\" under \"Source\" and navigate to the folder where init_script1.sh was written.\n",
    "\n",
    "Now, every time you restart the cluster, the init script installs the packages cluster-scoped from the tar.gz file on the managed volume without the need to download them."
   ]
  }
 ],
 "metadata": {
  "language_info": {
   "name": "python"
  }
 },
 "nbformat": 4,
 "nbformat_minor": 2
}
